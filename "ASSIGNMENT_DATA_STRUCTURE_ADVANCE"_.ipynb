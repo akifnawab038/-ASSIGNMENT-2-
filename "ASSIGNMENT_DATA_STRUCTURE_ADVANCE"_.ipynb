{
  "nbformat": 4,
  "nbformat_minor": 0,
  "metadata": {
    "colab": {
      "provenance": [],
      "authorship_tag": "ABX9TyPNgsGN2a1HRUbnnX1JiFBP",
      "include_colab_link": true
    },
    "kernelspec": {
      "name": "python3",
      "display_name": "Python 3"
    },
    "language_info": {
      "name": "python"
    }
  },
  "cells": [
    {
      "cell_type": "markdown",
      "metadata": {
        "id": "view-in-github",
        "colab_type": "text"
      },
      "source": [
        "<a href=\"https://colab.research.google.com/github/akifnawab038/-ASSIGNMENT-2-/blob/main/%22ASSIGNMENT_DATA_STRUCTURE_ADVANCE%22_.ipynb\" target=\"_parent\"><img src=\"https://colab.research.google.com/assets/colab-badge.svg\" alt=\"Open In Colab\"/></a>"
      ]
    },
    {
      "cell_type": "markdown",
      "source": [
        "# ASSIGNMENT:\n",
        "## DATA STRUCTURE ADVANCE:"
      ],
      "metadata": {
        "id": "CB6NXwj9gfe2"
      }
    },
    {
      "cell_type": "code",
      "source": [],
      "metadata": {
        "id": "aBxq_Jn7grnG"
      },
      "execution_count": null,
      "outputs": []
    },
    {
      "cell_type": "markdown",
      "source": [
        "**1. Write a code to reverse a string**"
      ],
      "metadata": {
        "id": "x1cA6A8Hgxim"
      }
    },
    {
      "cell_type": "code",
      "source": [
        "string = \"pwskills\"\n",
        "string[::-1]"
      ],
      "metadata": {
        "colab": {
          "base_uri": "https://localhost:8080/",
          "height": 35
        },
        "id": "bTnYnU8Ng7Sq",
        "outputId": "5d38acdd-4ba4-48a7-83cb-8ecdcdcbfa47"
      },
      "execution_count": null,
      "outputs": [
        {
          "output_type": "execute_result",
          "data": {
            "text/plain": [
              "'sllikswp'"
            ],
            "application/vnd.google.colaboratory.intrinsic+json": {
              "type": "string"
            }
          },
          "metadata": {},
          "execution_count": 1
        }
      ]
    },
    {
      "cell_type": "markdown",
      "source": [
        "**2. write a code to count the number of vowels in a string.**"
      ],
      "metadata": {
        "id": "DKB2cotLhCis"
      }
    },
    {
      "cell_type": "code",
      "source": [
        "q = \"Md Akif Nawab\"\n",
        "vowels = \"aeiouAEIOU\"\n",
        "count = sum(q.count(vowel) for vowel in vowels)\n",
        "print(count)"
      ],
      "metadata": {
        "colab": {
          "base_uri": "https://localhost:8080/"
        },
        "id": "2k6VfFIMhNBD",
        "outputId": "f7cd8888-7196-443f-95a2-b278a8cbbfb6"
      },
      "execution_count": null,
      "outputs": [
        {
          "output_type": "stream",
          "name": "stdout",
          "text": [
            "4\n"
          ]
        }
      ]
    },
    {
      "cell_type": "markdown",
      "source": [
        "**3. write a code to check if given string is a plaindrone or not**"
      ],
      "metadata": {
        "id": "3cGg-6c6hjfk"
      }
    },
    {
      "cell_type": "code",
      "source": [
        "n = input(\"string\")\n",
        "revstr = n[::-1]\n",
        "if n == revstr:\n",
        "    print(\"palindrome\")\n",
        "else:\n",
        "    print(\"not palindrome\")\n"
      ],
      "metadata": {
        "colab": {
          "base_uri": "https://localhost:8080/"
        },
        "id": "HzZ0Xgihirww",
        "outputId": "12afab25-e82e-493d-81a1-95a7f39d31d8"
      },
      "execution_count": null,
      "outputs": [
        {
          "output_type": "stream",
          "name": "stdout",
          "text": [
            "stringAFIFA\n",
            "palindrome\n"
          ]
        }
      ]
    },
    {
      "cell_type": "code",
      "source": [
        "n = input(\"string\")\n",
        "revstr = n[::-1]\n",
        "if n == revstr:\n",
        "    print(\"palindrome\")\n",
        "else:\n",
        "    print(\"not palindrome\")"
      ],
      "metadata": {
        "colab": {
          "base_uri": "https://localhost:8080/"
        },
        "id": "656H0ns0k89h",
        "outputId": "3107574f-b22d-4811-a17a-d2df3d922b14"
      },
      "execution_count": null,
      "outputs": [
        {
          "output_type": "stream",
          "name": "stdout",
          "text": [
            "stringAKIF\n",
            "not palindrome\n"
          ]
        }
      ]
    },
    {
      "cell_type": "markdown",
      "source": [
        "**4. Write a code to check if two giben strings are anagrams of eachother.**"
      ],
      "metadata": {
        "id": "Qh8GVpL269D9"
      }
    },
    {
      "cell_type": "code",
      "source": [
        "str1 = input(\"enter string1 \")\n",
        "str2 = input(\"enter string2 \")\n",
        "\n",
        "if len(str1) != len(str2):\n",
        "  print(\"not anagram\")\n",
        "else:\n",
        "  if sorted(str1) == sorted(str2):\n",
        "    print(\"strings are anagrams\")\n",
        "  else:\n",
        "    print(\"strings are not anagrams\")\n"
      ],
      "metadata": {
        "id": "f5Oc4jMoiOtL",
        "colab": {
          "base_uri": "https://localhost:8080/"
        },
        "outputId": "31a2dc3e-d451-4f29-85a8-686cdc90c85c"
      },
      "execution_count": null,
      "outputs": [
        {
          "output_type": "stream",
          "name": "stdout",
          "text": [
            "enter string1 HEART\n",
            "enter string2 EARTH\n",
            "strings are anagrams\n"
          ]
        }
      ]
    },
    {
      "cell_type": "markdown",
      "source": [
        "**5. Write a code to find all occurrences of given substring within another string.**"
      ],
      "metadata": {
        "id": "N8O0YARE9aRn"
      }
    },
    {
      "cell_type": "code",
      "source": [
        "str3 = \"HELLO\"\n",
        "substr = []\n",
        "for i in range(0,len(str3)):\n",
        "  for j in range(i+1,len(str3)+1):\n",
        "    substr.append(str3[i:j])\n",
        "print(substr)\n",
        "\n"
      ],
      "metadata": {
        "id": "cBLEhMs997kG",
        "colab": {
          "base_uri": "https://localhost:8080/"
        },
        "outputId": "e4695ba3-225c-4d9d-f445-32f37abf9e2a"
      },
      "execution_count": null,
      "outputs": [
        {
          "output_type": "stream",
          "name": "stdout",
          "text": [
            "['H', 'HE', 'HEL', 'HELL', 'HELLO', 'E', 'EL', 'ELL', 'ELLO', 'L', 'LL', 'LLO', 'L', 'LO', 'O']\n"
          ]
        }
      ]
    },
    {
      "cell_type": "markdown",
      "source": [
        "**6. Write a code to perform basic string compression using the counts of repeted characters.**"
      ],
      "metadata": {
        "id": "aKhA9Hk3Cfch"
      }
    },
    {
      "cell_type": "code",
      "source": [
        "k = input(\"enter string: \")\n",
        "l = list(k)\n",
        "freq = [l.count(ele) for ele in l]\n",
        "d = dict(zip(l, freq))\n",
        "print(d)"
      ],
      "metadata": {
        "colab": {
          "base_uri": "https://localhost:8080/"
        },
        "id": "_2jtwsWpCaiZ",
        "outputId": "aecab248-0d80-4ad4-afc6-bfbd56568804"
      },
      "execution_count": null,
      "outputs": [
        {
          "output_type": "stream",
          "name": "stdout",
          "text": [
            "enter string: Hello welcome to python programming\n",
            "{'H': 1, 'e': 3, 'l': 3, 'o': 5, ' ': 4, 'w': 1, 'c': 1, 'm': 3, 't': 2, 'p': 2, 'y': 1, 'h': 1, 'n': 2, 'r': 2, 'g': 2, 'a': 1, 'i': 1}\n"
          ]
        }
      ]
    },
    {
      "cell_type": "markdown",
      "source": [
        "**7. Write a code to determine if a string has all unique characters.**"
      ],
      "metadata": {
        "id": "M8ISs8cKVTK9"
      }
    },
    {
      "cell_type": "code",
      "source": [
        "str5 = input(\"enter string: \")\n",
        "for  i in range(len(str5)):\n",
        "  if str5[i] in str5[i+1:]:\n",
        "    print(\"not unique\")\n",
        "    break\n",
        "else:\n",
        "  print(\"unique\")"
      ],
      "metadata": {
        "colab": {
          "base_uri": "https://localhost:8080/"
        },
        "id": "UKV3acpmWmMZ",
        "outputId": "9b828e34-c4bf-4499-f662-04aa10c34015"
      },
      "execution_count": null,
      "outputs": [
        {
          "output_type": "stream",
          "name": "stdout",
          "text": [
            "enter string: akif nawab\n",
            "not unique\n"
          ]
        }
      ]
    },
    {
      "cell_type": "markdown",
      "source": [
        "**8. Write a code to convert a given string to uppercase or lower case.**\n",
        "\n",
        "\n",
        "\n"
      ],
      "metadata": {
        "id": "PUKF2iRoYIno"
      }
    },
    {
      "cell_type": "code",
      "source": [
        "s = \"Md Akif Nawab\"\n",
        "s.upper()"
      ],
      "metadata": {
        "colab": {
          "base_uri": "https://localhost:8080/",
          "height": 35
        },
        "id": "wxKWmGyaYJUD",
        "outputId": "e0f66654-3830-49c2-8785-5429fcde8d64"
      },
      "execution_count": null,
      "outputs": [
        {
          "output_type": "execute_result",
          "data": {
            "text/plain": [
              "'MD AKIF NAWAB'"
            ],
            "application/vnd.google.colaboratory.intrinsic+json": {
              "type": "string"
            }
          },
          "metadata": {},
          "execution_count": 35
        }
      ]
    },
    {
      "cell_type": "code",
      "source": [
        "s.lower()"
      ],
      "metadata": {
        "colab": {
          "base_uri": "https://localhost:8080/",
          "height": 35
        },
        "id": "I56YyHmWYbYZ",
        "outputId": "9b4c7469-ed56-4b75-862d-d2bc94140d2e"
      },
      "execution_count": null,
      "outputs": [
        {
          "output_type": "execute_result",
          "data": {
            "text/plain": [
              "'md akif nawab'"
            ],
            "application/vnd.google.colaboratory.intrinsic+json": {
              "type": "string"
            }
          },
          "metadata": {},
          "execution_count": 36
        }
      ]
    },
    {
      "cell_type": "markdown",
      "source": [
        "**9. write a code to count the number of words in a string.**"
      ],
      "metadata": {
        "id": "5Y3Nn9vdYrb5"
      }
    },
    {
      "cell_type": "code",
      "source": [
        "str8 = \"Md Akif Nawab\"\n",
        "len(str8.split())"
      ],
      "metadata": {
        "colab": {
          "base_uri": "https://localhost:8080/"
        },
        "id": "G3O0q_nYYgMW",
        "outputId": "e3baae67-6429-4ba4-e425-0d4e525ccc5a"
      },
      "execution_count": null,
      "outputs": [
        {
          "output_type": "execute_result",
          "data": {
            "text/plain": [
              "3"
            ]
          },
          "metadata": {},
          "execution_count": 39
        }
      ]
    },
    {
      "cell_type": "markdown",
      "source": [
        "**10. Write a code to concatenate two strings without using the + operator.**"
      ],
      "metadata": {
        "id": "psWHRYz6ZIHY"
      }
    },
    {
      "cell_type": "code",
      "source": [
        "a = \"Md Akif\"\n",
        "b = \" Nawab\"\n",
        "\" \".join([a,b])"
      ],
      "metadata": {
        "colab": {
          "base_uri": "https://localhost:8080/",
          "height": 35
        },
        "id": "tiusTtCVY9k1",
        "outputId": "be34086b-b602-4b63-f5f4-19d69ee93eb5"
      },
      "execution_count": null,
      "outputs": [
        {
          "output_type": "execute_result",
          "data": {
            "text/plain": [
              "'Md Akif  Nawab'"
            ],
            "application/vnd.google.colaboratory.intrinsic+json": {
              "type": "string"
            }
          },
          "metadata": {},
          "execution_count": 53
        }
      ]
    },
    {
      "cell_type": "markdown",
      "source": [
        "**11. write a code to remove all occurrences of a specific element from a list.**"
      ],
      "metadata": {
        "id": "pACTR7Zda7bB"
      }
    },
    {
      "cell_type": "code",
      "source": [
        "lis = [1,2,3,4.44, \"akif\", \"nawab\", True]\n"
      ],
      "metadata": {
        "id": "aQ6PwzSZZqTH"
      },
      "execution_count": null,
      "outputs": []
    },
    {
      "cell_type": "code",
      "source": [
        "lis.remove(1)"
      ],
      "metadata": {
        "id": "QBeOXtMGbm65"
      },
      "execution_count": null,
      "outputs": []
    },
    {
      "cell_type": "code",
      "source": [
        "lis"
      ],
      "metadata": {
        "colab": {
          "base_uri": "https://localhost:8080/"
        },
        "id": "WROne8W5bv6e",
        "outputId": "08fe3951-ddba-4b4c-a097-22bf7ea354f6"
      },
      "execution_count": null,
      "outputs": [
        {
          "output_type": "execute_result",
          "data": {
            "text/plain": [
              "[2, 3, 4.44, 'akif', 'nawab', True]"
            ]
          },
          "metadata": {},
          "execution_count": 56
        }
      ]
    },
    {
      "cell_type": "code",
      "source": [
        "lis.clear()"
      ],
      "metadata": {
        "id": "mTbV-ZVbbww8"
      },
      "execution_count": null,
      "outputs": []
    },
    {
      "cell_type": "code",
      "source": [
        "lis"
      ],
      "metadata": {
        "colab": {
          "base_uri": "https://localhost:8080/"
        },
        "id": "l4ZgmHVSb2Jk",
        "outputId": "225d25af-8331-4b77-bd0b-306360afb727"
      },
      "execution_count": null,
      "outputs": [
        {
          "output_type": "execute_result",
          "data": {
            "text/plain": [
              "[]"
            ]
          },
          "metadata": {},
          "execution_count": 60
        }
      ]
    },
    {
      "cell_type": "markdown",
      "source": [
        "**12. Implement a code to find the second largest number in a given list of integers.**"
      ],
      "metadata": {
        "id": "Wje3JPfIcFo_"
      }
    },
    {
      "cell_type": "code",
      "source": [
        "l = [1,20,50,70,90,100]\n",
        "l.sort()\n",
        "print(f\"second largest element - {l[-2]}\")"
      ],
      "metadata": {
        "colab": {
          "base_uri": "https://localhost:8080/"
        },
        "id": "_kQS4K5bb3Ll",
        "outputId": "9c7c08d3-d776-4dd2-df17-92c6c225e6c1"
      },
      "execution_count": null,
      "outputs": [
        {
          "output_type": "stream",
          "name": "stdout",
          "text": [
            "second largest element - 90\n"
          ]
        }
      ]
    },
    {
      "cell_type": "markdown",
      "source": [
        "**13. Creat a code to count the occurrences of each element in a list and return a dictionary with elements as keys and their counts as values.**"
      ],
      "metadata": {
        "id": "qhtZQqOFlUY3"
      }
    },
    {
      "cell_type": "code",
      "source": [
        "lis1 = [1,2,3,2,3,1,1.1,2,\"hello\", \"hello\", True, True, False, 100]\n",
        "freq = {element : lis1.count(element) for element in lis1}\n",
        "print(freq)"
      ],
      "metadata": {
        "colab": {
          "base_uri": "https://localhost:8080/"
        },
        "id": "Ebvk8djfmG99",
        "outputId": "952061e2-7052-41bd-95df-e51d317920de"
      },
      "execution_count": null,
      "outputs": [
        {
          "output_type": "stream",
          "name": "stdout",
          "text": [
            "{1: 4, 2: 3, 3: 2, 1.1: 1, 'hello': 2, False: 1, 100: 1}\n"
          ]
        }
      ]
    },
    {
      "cell_type": "markdown",
      "source": [
        "**14. Write a code to reverse a list in-place without using any built-in reverse functions.**"
      ],
      "metadata": {
        "id": "_Wr6rwqJpz3i"
      }
    },
    {
      "cell_type": "code",
      "source": [
        "lis2 = [1,2,3,4,5]\n",
        "lis2[::-1]"
      ],
      "metadata": {
        "colab": {
          "base_uri": "https://localhost:8080/"
        },
        "id": "SpCOz3VBprAr",
        "outputId": "f31235b1-2d3a-4f7e-f772-8a35ff6aafd9"
      },
      "execution_count": null,
      "outputs": [
        {
          "output_type": "execute_result",
          "data": {
            "text/plain": [
              "[5, 4, 3, 2, 1]"
            ]
          },
          "metadata": {},
          "execution_count": 79
        }
      ]
    },
    {
      "cell_type": "markdown",
      "source": [
        "**15. Implement a code to find and remove dublicate from a list while preserving the original order of elements.**"
      ],
      "metadata": {
        "id": "FOuGP_zmqY_6"
      }
    },
    {
      "cell_type": "code",
      "source": [
        "lis3 = [\"a\", \"a\", \"b\", \"c\", \"b\", \"d\", \"c\"]\n",
        "list(dict.fromkeys(lis3))"
      ],
      "metadata": {
        "colab": {
          "base_uri": "https://localhost:8080/"
        },
        "id": "RxlLXNodqGa9",
        "outputId": "480d6022-3840-469b-dff9-cc7685ca4861"
      },
      "execution_count": null,
      "outputs": [
        {
          "output_type": "execute_result",
          "data": {
            "text/plain": [
              "['a', 'b', 'c', 'd']"
            ]
          },
          "metadata": {},
          "execution_count": 86
        }
      ]
    },
    {
      "cell_type": "markdown",
      "source": [
        "**16. Creat a code to check if given list is sorted (either in ascending order or desending order) or not.**"
      ],
      "metadata": {
        "id": "LCDT4SsuvV9Q"
      }
    },
    {
      "cell_type": "code",
      "source": [
        "list1 = [1,2,3,4,5,6, 88,23]\n",
        "list2 = list1.copy()\n",
        "list2==list1[:]\n",
        "list1.sort()\n",
        "if list2 == list1:\n",
        "  print(\"the list is in ascending order\")\n",
        "else:\n",
        "  print(\"The list is not in ascending order\")"
      ],
      "metadata": {
        "colab": {
          "base_uri": "https://localhost:8080/"
        },
        "id": "ANjJAUkfYIr3",
        "outputId": "3834be9e-c37e-4dec-d3f4-09adcf316aee"
      },
      "execution_count": null,
      "outputs": [
        {
          "output_type": "stream",
          "name": "stdout",
          "text": [
            "The list is not in ascending order\n"
          ]
        }
      ]
    },
    {
      "cell_type": "markdown",
      "source": [
        "**17. Write a code to merge two sorted lists into a single sorted list.**"
      ],
      "metadata": {
        "id": "9SLPq6fkZu-v"
      }
    },
    {
      "cell_type": "code",
      "source": [
        "list3 = [1,3,5]\n",
        "list4 = [2,4,6]\n",
        "list5 = list3 +list4\n",
        "list5.sort()\n",
        "print(list5)"
      ],
      "metadata": {
        "colab": {
          "base_uri": "https://localhost:8080/"
        },
        "id": "ISXBa7TPY0J6",
        "outputId": "b3b6a82b-3a2d-48d4-ef32-627feeb6e19a"
      },
      "execution_count": null,
      "outputs": [
        {
          "output_type": "stream",
          "name": "stdout",
          "text": [
            "[1, 2, 3, 4, 5, 6]\n"
          ]
        }
      ]
    },
    {
      "cell_type": "markdown",
      "source": [
        "**18. Implement a code to find the intersection of two given lists.**"
      ],
      "metadata": {
        "id": "kkCgIyQDbVR2"
      }
    },
    {
      "cell_type": "code",
      "source": [
        "list6 = [1,2,3,4,5]\n",
        "list7 = [2,4,6,8,10, 5]\n",
        "list8 = []\n",
        "for i in list6:\n",
        "  if i in list7:\n",
        "    list8.append(i)\n",
        "print(list8)"
      ],
      "metadata": {
        "colab": {
          "base_uri": "https://localhost:8080/"
        },
        "id": "McKsq1TJa7z4",
        "outputId": "b1a3a5ea-c695-450e-ac09-62d61b609c99"
      },
      "execution_count": null,
      "outputs": [
        {
          "output_type": "stream",
          "name": "stdout",
          "text": [
            "[2, 4, 5]\n"
          ]
        }
      ]
    },
    {
      "cell_type": "markdown",
      "source": [
        "**19. Creat a code to find the union of two lists without dublicates.**"
      ],
      "metadata": {
        "id": "Tdgkm5NLcYbm"
      }
    },
    {
      "cell_type": "code",
      "source": [
        "list9 = [1,2,3,4,5]\n",
        "list10 = [2,4,6,8,10]\n",
        "list11 = []\n",
        "for i in list9:\n",
        "  if i not in list11:\n",
        "    list11.append(i)\n",
        "for j in list10:\n",
        "  if j not in list11:\n",
        "    list11.append(j)\n",
        "print(list11)\n"
      ],
      "metadata": {
        "colab": {
          "base_uri": "https://localhost:8080/"
        },
        "id": "L3b781gvcPBE",
        "outputId": "b021b469-58f1-4b28-b21b-35a9b552be1c"
      },
      "execution_count": null,
      "outputs": [
        {
          "output_type": "stream",
          "name": "stdout",
          "text": [
            "[1, 2, 3, 4, 5, 6, 8, 10]\n"
          ]
        }
      ]
    },
    {
      "cell_type": "code",
      "source": [
        "list9 = [1,2,3,4,5]\n",
        "list10 = [2,4,6,8,10]\n",
        "list11 = list9 + list10\n",
        "list11 = list(set(list11))\n",
        "print(list11)"
      ],
      "metadata": {
        "colab": {
          "base_uri": "https://localhost:8080/"
        },
        "id": "PVTBixfleH87",
        "outputId": "9424186d-b832-4644-f6bb-d98927b8b84e"
      },
      "execution_count": null,
      "outputs": [
        {
          "output_type": "stream",
          "name": "stdout",
          "text": [
            "[1, 2, 3, 4, 5, 6, 8, 10]\n"
          ]
        }
      ]
    },
    {
      "cell_type": "markdown",
      "source": [
        "**20. Write a code to shuffle a given list randomly without using any built-in shuffle functions.**"
      ],
      "metadata": {
        "id": "8mvWQ5CseilM"
      }
    },
    {
      "cell_type": "code",
      "source": [
        "list12 = [1,2,3,4,5,6,7,8,9,10]\n",
        "import random\n",
        "for i in range(len(list12)-1, 0, -1):\n",
        "  j = random.randint(0,i)\n",
        "  list12[i], list12[j] = list12[j], list12[i]\n",
        "print(list12)\n",
        "\n",
        "\n"
      ],
      "metadata": {
        "colab": {
          "base_uri": "https://localhost:8080/"
        },
        "id": "PuvSepldgLqF",
        "outputId": "07bb62bc-b434-4030-d281-837590c70026"
      },
      "execution_count": null,
      "outputs": [
        {
          "output_type": "stream",
          "name": "stdout",
          "text": [
            "[6, 8, 7, 3, 10, 4, 2, 5, 9, 1]\n"
          ]
        }
      ]
    },
    {
      "cell_type": "markdown",
      "source": [
        "**21. Write a code that takes two tuples as input and returns a new tuple containing elements that are common to both input tuples.**"
      ],
      "metadata": {
        "id": "RLAGu3iku8BB"
      }
    },
    {
      "cell_type": "code",
      "source": [
        "tpl = (1,2,3,4,5)\n",
        "tpl1 = (3,4,5,6,7)\n",
        "tpl2 = []\n",
        "for i in tpl:\n",
        "  if i in tpl1:\n",
        "    tpl2.append(i)\n",
        "print(tuple(tpl2))"
      ],
      "metadata": {
        "id": "YTjSAe0chPtV",
        "colab": {
          "base_uri": "https://localhost:8080/"
        },
        "outputId": "7b3f4a4d-b7d7-435f-a384-e18919f51362"
      },
      "execution_count": null,
      "outputs": [
        {
          "output_type": "stream",
          "name": "stdout",
          "text": [
            "(3, 4, 5)\n"
          ]
        }
      ]
    },
    {
      "cell_type": "markdown",
      "source": [
        "**22. Creat a code that prompts the user to enter two sets of integers seperated by commas. Then, print the intersection of these two sets.**"
      ],
      "metadata": {
        "id": "C5u1mvrGv04Z"
      }
    },
    {
      "cell_type": "code",
      "source": [
        "set1_str = input(\"Enter the first set of integers, separated by commas: \")\n",
        "\n",
        "set1 = set(int(num) for num in set1_str.split(','))\n",
        "\n",
        "set2_str = input(\"Enter the second set of integers, separated by commas: \")\n",
        "\n",
        "set2 = set(int(num) for num in set2_str.split(','))\n",
        "\n",
        "intersection_set = set1.intersection(set2)\n",
        "\n",
        "print(\"Intersection of the two sets:\", intersection_set)"
      ],
      "metadata": {
        "id": "PprCYU-JzNwj",
        "colab": {
          "base_uri": "https://localhost:8080/"
        },
        "outputId": "91f9ee0f-152b-444e-fcd3-c644fb2bdb8b"
      },
      "execution_count": 2,
      "outputs": [
        {
          "output_type": "stream",
          "name": "stdout",
          "text": [
            "Enter the first set of integers, separated by commas: 1,2,3,4,8,7,6,5,9,0\n",
            "Enter the second set of integers, separated by commas: 9,7,5,1,2,3,4,0,7,5\n",
            "Intersection of the two sets: {0, 1, 2, 3, 4, 5, 7, 9}\n"
          ]
        }
      ]
    },
    {
      "cell_type": "markdown",
      "source": [
        "**23. Write a code to concatenate two tuples. The function should take two tuples as input and return a new\n",
        "tuple containing elements from both input tuples.**"
      ],
      "metadata": {
        "id": "7FDQKEM9xYXd"
      }
    },
    {
      "cell_type": "code",
      "source": [
        "tuple1 = tuple(int(num) for num in input(\"Enter the first tuple, separated by commas: \").split(','))\n",
        "tuple2 = tuple(int(num) for num in input(\"Enter the second tuple, separated by commas: \").split(','))\n",
        "\n",
        "concatenated_tuple = tuple1 + tuple2\n",
        "\n",
        "print(\"Concatenated tuple:\", concatenated_tuple)"
      ],
      "metadata": {
        "colab": {
          "base_uri": "https://localhost:8080/"
        },
        "id": "SWKK--Lfw41B",
        "outputId": "eaf844c2-9859-463a-eb4a-21dbbfa60471"
      },
      "execution_count": 3,
      "outputs": [
        {
          "output_type": "stream",
          "name": "stdout",
          "text": [
            "Enter the first tuple, separated by commas: 1,2,3,4,5,6,7,8,9,0\n",
            "Enter the second tuple, separated by commas: 0,9,8,7,6,5,4,3,2,1\n",
            "Concatenated tuple: (1, 2, 3, 4, 5, 6, 7, 8, 9, 0, 0, 9, 8, 7, 6, 5, 4, 3, 2, 1)\n"
          ]
        }
      ]
    },
    {
      "cell_type": "markdown",
      "source": [
        "**24. Develop a code that prompts the user to input two sets of strings. Then, print the elements that are\n",
        "present in the first set but not in the second set.**"
      ],
      "metadata": {
        "id": "9mykjxStx49m"
      }
    },
    {
      "cell_type": "code",
      "source": [
        "set1_str = input(\"Enter the first set of strings, separated by commas: \")\n",
        "\n",
        "set1 = set(set1_str.split(','))\n",
        "\n",
        "set2_str = input(\"Enter the second set of strings, separated by commas: \")\n",
        "\n",
        "set2 = set(set2_str.split(','))\n",
        "\n",
        "difference_set = set1.difference(set2)\n",
        "\n",
        "print(\"Elements in the first set but not in the second:\", difference_set)"
      ],
      "metadata": {
        "colab": {
          "base_uri": "https://localhost:8080/"
        },
        "id": "a4F0U6hixndA",
        "outputId": "4adba4e8-9934-486c-ca3e-ffa63476681e"
      },
      "execution_count": 5,
      "outputs": [
        {
          "output_type": "stream",
          "name": "stdout",
          "text": [
            "Enter the first set of strings, separated by commas: 1,2,3,4,5\n",
            "Enter the second set of strings, separated by commas: 5,4,6,7,2\n",
            "Elements in the first set but not in the second: {'3', '1'}\n"
          ]
        }
      ]
    },
    {
      "cell_type": "markdown",
      "source": [
        "**25. Create a code that takes a tuple and two integers as input. The function should return a new tuple\n",
        "containing elements from the original tuple within the specified range of indices**"
      ],
      "metadata": {
        "id": "46sNBDNDyb5H"
      }
    },
    {
      "cell_type": "code",
      "source": [
        "input_tuple = tuple(int(num) for num in input(\"Enter the tuple, separated by commas: \").split(','))\n",
        "start_index = int(input(\"Enter the starting index: \"))\n",
        "end_index = int(input(\"Enter the ending index: \"))\n",
        "\n",
        "sliced_tuple = input_tuple[start_index:end_index+1]\n",
        "\n",
        "print(\"Sliced tuple:\", sliced_tuple)"
      ],
      "metadata": {
        "colab": {
          "base_uri": "https://localhost:8080/"
        },
        "id": "0-FJukx3yHIB",
        "outputId": "3c65d03f-ef7b-47e0-94d0-f2d975173fa6"
      },
      "execution_count": 8,
      "outputs": [
        {
          "output_type": "stream",
          "name": "stdout",
          "text": [
            "Enter the tuple, separated by commas: 10,20,30,40,50\n",
            "Enter the starting index: 1\n",
            "Enter the ending index: 3\n",
            "Sliced tuple: (20, 30, 40)\n"
          ]
        }
      ]
    },
    {
      "cell_type": "markdown",
      "source": [
        "**26. Write a code that prompts the user to input two sets of characters. Then, print the union of these two sets&**"
      ],
      "metadata": {
        "id": "E_AKAlI9zuE1"
      }
    },
    {
      "cell_type": "code",
      "source": [
        "set1 = set(input(\"Enter the first set of characters: \"))\n",
        "set2 = set(input(\"Enter the second set of characters: \"))\n",
        "\n",
        "union_set = set1.union(set2)\n",
        "\n",
        "print(\"Union of the two sets:\", union_set)"
      ],
      "metadata": {
        "colab": {
          "base_uri": "https://localhost:8080/"
        },
        "id": "lM1M06yJyjuK",
        "outputId": "cf8062ee-5f5b-4f06-9163-206d5cc42133"
      },
      "execution_count": 10,
      "outputs": [
        {
          "output_type": "stream",
          "name": "stdout",
          "text": [
            "Enter the first set of characters: abcde\n",
            "Enter the second set of characters: cdefg\n",
            "Union of the two sets: {'e', 'b', 'd', 'a', 'f', 'g', 'c'}\n"
          ]
        }
      ]
    },
    {
      "cell_type": "markdown",
      "source": [
        "**27. Develop a code that takes a tuple of integers as input. The function should return the maximum and\n",
        "minimum values from the tuple using tuple unpacking**"
      ],
      "metadata": {
        "id": "lXYLR0lB0M62"
      }
    },
    {
      "cell_type": "code",
      "source": [
        "tuple1 = tuple(int(num) for num in input(\"Enter the tuple of integers, separated by commas: \").split(','))\n",
        "\n",
        "max_value, min_value = max(tuple1), min(tuple1)\n",
        "\n",
        "print(\"Maximum value:\", max_value)\n",
        "print(\"Minimum value:\", min_value)"
      ],
      "metadata": {
        "colab": {
          "base_uri": "https://localhost:8080/"
        },
        "id": "t1uGUqiAz1wH",
        "outputId": "1a4f0a3a-bb03-4d4e-cdb9-a4c5801ea849"
      },
      "execution_count": 11,
      "outputs": [
        {
          "output_type": "stream",
          "name": "stdout",
          "text": [
            "Enter the tuple of integers, separated by commas: 1,2,3,4,3\n",
            "Maximum value: 4\n",
            "Minimum value: 1\n"
          ]
        }
      ]
    },
    {
      "cell_type": "markdown",
      "source": [
        "**28. Create a code that defines two sets of integers. Then, print the union, intersection, and difference of these\n",
        "two sets&**"
      ],
      "metadata": {
        "id": "iC6kTjOz0aDQ"
      }
    },
    {
      "cell_type": "code",
      "source": [
        "set1 = {1, 2, 3, 4, 5}\n",
        "set2 = {3, 4, 5, 6, 7}\n",
        "\n",
        "union_set = set1.union(set2)\n",
        "print(\"Union of the sets:\", union_set)\n",
        "\n",
        "intersection_set = set1.intersection(set2)\n",
        "print(\"Intersection of the sets:\", intersection_set)\n",
        "\n",
        "difference_set = set1.difference(set2)\n",
        "print(\"Difference of the sets (set1 - set2):\", difference_set)"
      ],
      "metadata": {
        "colab": {
          "base_uri": "https://localhost:8080/"
        },
        "id": "Y3m4mmLW0TnG",
        "outputId": "ae7bea0f-d884-4a1b-e5f8-6e9056e63bf4"
      },
      "execution_count": 12,
      "outputs": [
        {
          "output_type": "stream",
          "name": "stdout",
          "text": [
            "Union of the sets: {1, 2, 3, 4, 5, 6, 7}\n",
            "Intersection of the sets: {3, 4, 5}\n",
            "Difference of the sets (set1 - set2): {1, 2}\n"
          ]
        }
      ]
    },
    {
      "cell_type": "markdown",
      "source": [
        "**29 Write a code that takes a tuple and an element as input. The function should return the count of\n",
        "occurrences of the given element in the tuple&**"
      ],
      "metadata": {
        "id": "2f0VGg5F0nhh"
      }
    },
    {
      "cell_type": "code",
      "source": [
        "tuple1 = tuple(int(num) for num in input(\"Enter the tuple of integers, separated by commas: \").split(','))\n",
        "element = int(input(\"Enter the element to count: \"))\n",
        "\n",
        "count = tuple1.count(element)\n",
        "\n",
        "print(\"Count of the element:\", count)"
      ],
      "metadata": {
        "colab": {
          "base_uri": "https://localhost:8080/"
        },
        "id": "q6gEkZ-X0khg",
        "outputId": "960d3e8b-aad2-46f2-d6be-e3ba8c09cf89"
      },
      "execution_count": 14,
      "outputs": [
        {
          "output_type": "stream",
          "name": "stdout",
          "text": [
            "Enter the tuple of integers, separated by commas: 1,2,3,2,1,4,2,9,7,5,2,3,4,5\n",
            "Enter the element to count: 2\n",
            "Count of the element: 4\n"
          ]
        }
      ]
    },
    {
      "cell_type": "markdown",
      "source": [
        "**30. Develop a code that prompts the user to input two sets of strings. Then, print the symmetric difference of\n",
        "these two sets&**"
      ],
      "metadata": {
        "id": "Z4tz1XvL1DpS"
      }
    },
    {
      "cell_type": "code",
      "source": [
        "set1 = set(input(\"Enter the first set of strings, separated by commas: \").split(','))\n",
        "set2 = set(input(\"Enter the second set of strings, separated by commas: \").split(','))\n",
        "\n",
        "symmetric_difference = set1.symmetric_difference(set2)\n",
        "\n",
        "print(\"Symmetric difference of the two sets:\", symmetric_difference)"
      ],
      "metadata": {
        "colab": {
          "base_uri": "https://localhost:8080/"
        },
        "id": "_n6ToPkO0uNm",
        "outputId": "35cfec55-6073-4041-bd38-e6a7f8970889"
      },
      "execution_count": 15,
      "outputs": [
        {
          "output_type": "stream",
          "name": "stdout",
          "text": [
            "Enter the first set of strings, separated by commas: akif, wasif, azib\n",
            "Enter the second set of strings, separated by commas: kaif, ajay, affan\n",
            "Symmetric difference of the two sets: {' wasif', 'akif', 'kaif', ' azib', ' ajay', ' affan'}\n"
          ]
        }
      ]
    },
    {
      "cell_type": "markdown",
      "source": [
        "**31. Write a code that takes a list of words as input and returns a dictionary where the keys are unique words\n",
        "and the values are the frequencies of those words in the input list&**"
      ],
      "metadata": {
        "id": "O3XN02j41Yco"
      }
    },
    {
      "cell_type": "code",
      "source": [
        "words = input(\"Enter a list of words, separated by commas: \").split(',')\n",
        "\n",
        "word_counts = {}\n",
        "for word in words:\n",
        "    word_counts[word] = word_counts.get(word, 0) + 1\n",
        "\n",
        "print(word_counts)"
      ],
      "metadata": {
        "colab": {
          "base_uri": "https://localhost:8080/"
        },
        "id": "wjLP8p351J0x",
        "outputId": "9eb2a699-9156-4f40-93a3-d3d02d9a1ad9"
      },
      "execution_count": 16,
      "outputs": [
        {
          "output_type": "stream",
          "name": "stdout",
          "text": [
            "Enter a list of words, separated by commas: the, we, they, them\n",
            "{'the': 1, ' we': 1, ' they': 1, ' them': 1}\n"
          ]
        }
      ]
    },
    {
      "cell_type": "markdown",
      "source": [
        "**32. Write a code that takes two dictionaries as input and merges them into a single dictionary. If there are\n",
        "common keys, the values should be added together&**"
      ],
      "metadata": {
        "id": "-icn6mmX1tlA"
      }
    },
    {
      "cell_type": "code",
      "source": [
        "dict1 = {'a': 1, 'b': 2, 'c': 3}\n",
        "dict2 = {'b': 4, 'c': 5, 'd': 6}\n",
        "\n",
        "merged_dict = {}\n",
        "for key in dict1.keys() | dict2.keys():\n",
        "    merged_dict[key] = dict1.get(key, 0) + dict2.get(key, 0)\n",
        "\n",
        "print(merged_dict)"
      ],
      "metadata": {
        "colab": {
          "base_uri": "https://localhost:8080/"
        },
        "id": "6gRExXKd1jxS",
        "outputId": "3f40e662-72ea-4d25-acea-3658623f7541"
      },
      "execution_count": 17,
      "outputs": [
        {
          "output_type": "stream",
          "name": "stdout",
          "text": [
            "{'b': 6, 'd': 6, 'c': 8, 'a': 1}\n"
          ]
        }
      ]
    },
    {
      "cell_type": "markdown",
      "source": [
        "**33. Write a code to access a value in a nested dictionary. The function should take the dictionary and a list of\n",
        "keys as input, and return the corresponding value. If any of the keys do not exist in the dictionary, the\n",
        "function should return None**"
      ],
      "metadata": {
        "id": "RMfCqBm713VH"
      }
    },
    {
      "cell_type": "code",
      "source": [
        "nested_dict = {'a': {'b': {'c': 10}}}\n",
        "keys = ['a', 'b', 'c']\n",
        "\n",
        "value = nested_dict\n",
        "for key in keys:\n",
        "    if key in value:\n",
        "        value = value[key]\n",
        "    else:\n",
        "        value = None\n",
        "        break\n",
        "\n",
        "print(value)"
      ],
      "metadata": {
        "colab": {
          "base_uri": "https://localhost:8080/"
        },
        "id": "TQmB4tTl10Oq",
        "outputId": "ee80c7b7-8f70-4b71-9e32-57fcc5c557cf"
      },
      "execution_count": 18,
      "outputs": [
        {
          "output_type": "stream",
          "name": "stdout",
          "text": [
            "10\n"
          ]
        }
      ]
    },
    {
      "cell_type": "markdown",
      "source": [
        "**34. Write a code that takes a dictionary as input and returns a sorted version of it based on the values. You\n",
        "can choose whether to sort in ascending or descending order&**"
      ],
      "metadata": {
        "id": "Y6VuH6Lx2CQA"
      }
    },
    {
      "cell_type": "code",
      "source": [
        "dict1 = {'a': 10, 'b': 5, 'c': 15, 'd': 8}\n",
        "\n",
        "sorted_dict_asc = dict(sorted(dict1.items(), key=lambda item: item[1]))\n",
        "print(\"Sorted dictionary in ascending order:\", sorted_dict_asc)\n",
        "\n",
        "sorted_dict_desc = dict(sorted(dict1.items(), key=lambda item: item[1], reverse=True))\n",
        "print(\"Sorted dictionary in descending order:\", sorted_dict_desc)"
      ],
      "metadata": {
        "colab": {
          "base_uri": "https://localhost:8080/"
        },
        "id": "n1C0ztpK1_4x",
        "outputId": "de089634-1b69-4720-fcc0-159721188501"
      },
      "execution_count": 20,
      "outputs": [
        {
          "output_type": "stream",
          "name": "stdout",
          "text": [
            "Sorted dictionary in ascending order: {'b': 5, 'd': 8, 'a': 10, 'c': 15}\n",
            "Sorted dictionary in descending order: {'c': 15, 'a': 10, 'd': 8, 'b': 5}\n"
          ]
        }
      ]
    },
    {
      "cell_type": "markdown",
      "source": [
        "**35. Write a code that inverts a dictionary, swapping keys and values. Ensure that the inverted dictionary\n",
        "correctly handles cases where multiple keys have the same value by storing the keys as a list in the\n",
        "inverted dictionary.**"
      ],
      "metadata": {
        "id": "e0vjEh772MLL"
      }
    },
    {
      "cell_type": "code",
      "source": [
        "original_dict = {'a': 1, 'b': 2, 'c': 1, 'd': 3}\n",
        "\n",
        "inverted_dict = {}\n",
        "for key, value in original_dict.items():\n",
        "    inverted_dict.setdefault(value, []).append(key)\n",
        "\n",
        "print(inverted_dict)"
      ],
      "metadata": {
        "colab": {
          "base_uri": "https://localhost:8080/"
        },
        "id": "9uA3pqyf2IJL",
        "outputId": "8d28b1ce-fd34-4452-dee4-5f2dcb28ba8d"
      },
      "execution_count": 21,
      "outputs": [
        {
          "output_type": "stream",
          "name": "stdout",
          "text": [
            "{1: ['a', 'c'], 2: ['b'], 3: ['d']}\n"
          ]
        }
      ]
    },
    {
      "cell_type": "code",
      "source": [],
      "metadata": {
        "id": "d6b6EGMZ2Re4"
      },
      "execution_count": null,
      "outputs": []
    }
  ]
}